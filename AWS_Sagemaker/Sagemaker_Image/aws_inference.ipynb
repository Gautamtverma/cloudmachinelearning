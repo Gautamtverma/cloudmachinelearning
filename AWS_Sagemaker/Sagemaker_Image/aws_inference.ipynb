{
 "cells": [
  {
   "cell_type": "code",
   "execution_count": 20,
   "metadata": {},
   "outputs": [],
   "source": [
    "import argparse, os, io\n",
    "import re, csv\n",
    "import sagemaker, boto3\n",
    "from sagemaker.mxnet.model import MXNetModel\n",
    "import logging\n",
    "logging.getLogger().setLevel(logging.WARNING)\n",
    "\n",
    "from scipy import io as sio\n",
    "import numpy as np\n",
    "\n",
    "from sagemaker.tensorflow.model import TensorFlowModel\n",
    "\n",
    "import cv2"
   ]
  },
  {
   "cell_type": "code",
   "execution_count": 12,
   "metadata": {},
   "outputs": [],
   "source": [
    "sagemaker_model = TensorFlowModel(\n",
    "    role='arn:aws:iam::821488635735:role/service-role/AmazonSageMaker-ExecutionRole-20171216T132860',\n",
    "        model_data='s3://sagemaker-us-east-2-821488635735/object_detection/model.tar.gz',\n",
    "        entry_point='object_detect.py')"
   ]
  },
  {
   "cell_type": "code",
   "execution_count": 13,
   "metadata": {},
   "outputs": [
    {
     "name": "stderr",
     "output_type": "stream",
     "text": [
      "INFO:sagemaker:Creating model with name: sagemaker-tensorflow-2018-07-01-16-16-30-265\n",
      "INFO:sagemaker:Creating endpoint with name sagemaker-tensorflow-2018-07-01-16-16-30-265\n"
     ]
    },
    {
     "name": "stdout",
     "output_type": "stream",
     "text": [
      "----------------------------------------------!Model Loaded, Now start predicting\n"
     ]
    }
   ],
   "source": [
    "predictor = sagemaker_model.deploy(initial_instance_count=1,\n",
    "                                       instance_type='ml.m4.xlarge')\n",
    "print (\"Model Loaded, Now start predicting\")"
   ]
  },
  {
   "cell_type": "code",
   "execution_count": 38,
   "metadata": {},
   "outputs": [],
   "source": [
    "# load the data \n",
    "data = sio.loadmat('nyu_training_data.mat')\n"
   ]
  },
  {
   "cell_type": "code",
   "execution_count": 39,
   "metadata": {},
   "outputs": [
    {
     "data": {
      "text/plain": [
       "dict_keys(['__header__', '__version__', '__globals__', 'Names', 'images', 'labels'])"
      ]
     },
     "execution_count": 39,
     "metadata": {},
     "output_type": "execute_result"
    }
   ],
   "source": [
    "data.keys()"
   ]
  },
  {
   "cell_type": "code",
   "execution_count": 40,
   "metadata": {},
   "outputs": [],
   "source": [
    "images = data['images']\n",
    "labels = data['labels']\n",
    "names = data['Names']"
   ]
  },
  {
   "cell_type": "code",
   "execution_count": 44,
   "metadata": {},
   "outputs": [],
   "source": [
    "img = images[0, :, :, :]\n",
    "im = cv2.resize(img, (80, 80))\n",
    "lab = labels[0, :]"
   ]
  },
  {
   "cell_type": "code",
   "execution_count": 45,
   "metadata": {},
   "outputs": [
    {
     "name": "stdout",
     "output_type": "stream",
     "text": [
      "(80, 80, 3)\n"
     ]
    }
   ],
   "source": [
    "print(im.shape)"
   ]
  },
  {
   "cell_type": "code",
   "execution_count": 95,
   "metadata": {},
   "outputs": [],
   "source": [
    "def create_names_list(names):\n",
    "    nms = []\n",
    "    for name in names:\n",
    "        nms.append(name[0][0])\n",
    "    return nms"
   ]
  },
  {
   "cell_type": "code",
   "execution_count": 81,
   "metadata": {},
   "outputs": [],
   "source": [
    "def predict_data(im, predictor, lab):\n",
    "    pred_out = predictor.predict(data=np.float32(im)/255.)\n",
    "    \n",
    "    probs = np.array(pred_out['outputs']['classes']['floatVal'])\n",
    "    \n",
    "    nms = names[probs >= 0.5]\n",
    "    return nms"
   ]
  },
  {
   "cell_type": "code",
   "execution_count": 105,
   "metadata": {},
   "outputs": [],
   "source": [
    "pos = 0\n",
    "neg = 0\n",
    "for idx in range(images.shape[0]):\n",
    "    img = images[idx, :, :, :]\n",
    "    im = cv2.resize(img, (80, 80))\n",
    "    \n",
    "    lab = labels[idx, :]\n",
    "    \n",
    "    nms = predict_data(im, predictor, lab)\n",
    "    nms = create_names_list(nms)\n",
    "    actual = names[lab == 1.]\n",
    "    actual = create_names_list(actual)\n",
    "    cur_pos = 0\n",
    "    for nm in nms:\n",
    "        for act in actual:\n",
    "            if nm == act:\n",
    "                pos+=1\n",
    "                cur_pos+=1\n",
    "    neg+=(len(actual) - cur_pos)\n",
    "                \n",
    "    "
   ]
  },
  {
   "cell_type": "code",
   "execution_count": 108,
   "metadata": {},
   "outputs": [],
   "source": [
    "acc = pos *1.0 / (pos + neg)"
   ]
  },
  {
   "cell_type": "code",
   "execution_count": 109,
   "metadata": {},
   "outputs": [
    {
     "name": "stdout",
     "output_type": "stream",
     "text": [
      "predicted positive samples are : 210\n",
      "predicted negative samples are : 304\n",
      "predicted negative samples are : 0.4085603112840467\n"
     ]
    }
   ],
   "source": [
    "print('predicted positive samples are : ' + str(pos))\n",
    "print('predicted negative samples are : ' + str(neg))\n",
    "print('predicted negative samples are : ' + str(acc))"
   ]
  },
  {
   "cell_type": "code",
   "execution_count": 107,
   "metadata": {},
   "outputs": [
    {
     "data": {
      "text/plain": [
       "0.4085603112840467"
      ]
     },
     "execution_count": 107,
     "metadata": {},
     "output_type": "execute_result"
    }
   ],
   "source": []
  }
 ],
 "metadata": {
  "kernelspec": {
   "display_name": "Python 3",
   "language": "python",
   "name": "python3"
  },
  "language_info": {
   "codemirror_mode": {
    "name": "ipython",
    "version": 3
   },
   "file_extension": ".py",
   "mimetype": "text/x-python",
   "name": "python",
   "nbconvert_exporter": "python",
   "pygments_lexer": "ipython3",
   "version": "3.6.5"
  }
 },
 "nbformat": 4,
 "nbformat_minor": 2
}
